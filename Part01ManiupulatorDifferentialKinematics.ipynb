{
 "cells": [
  {
   "cell_type": "code",
   "execution_count": 1,
   "outputs": [],
   "source": [
    "from Transformations import *\n",
    "from torch import Tensor\n",
    "import torch as th"
   ],
   "metadata": {
    "collapsed": false
   }
  },
  {
   "cell_type": "markdown",
   "source": [
    "# Manipulator Differential Kinematics\n",
    "### Part I: Kinematics, Velocity, and Applications"
   ],
   "metadata": {
    "collapsed": false
   }
  },
  {
   "cell_type": "markdown",
   "source": [
    "Manipulator kinematics is concerned with the motion of each link within a manipulator without considering mass or force. This work is an introduction to modelling manipulator kinematics using the __elementary transform sequence (ETS)__."
   ],
   "metadata": {
    "collapsed": false
   }
  },
  {
   "cell_type": "markdown",
   "source": [
    "A serial-link manipulator, which we refer to as a manipulator, is the formal name for a robot that comprises a chain of rigid links and joints, it may contain branches, but it can not have closed loops. Each joint provides one degree of freedom, which may be a __prismatic joint__ providing translational freedom or a __revolute joint__ providing rotational freedom. __The base frame__ of a manipulator represents the reference frame of the first link in the chain, while the last link is known as __the end-effector__."
   ],
   "metadata": {
    "collapsed": false
   }
  },
  {
   "cell_type": "markdown",
   "source": [
    "The __elementary transform sequence (ETS)__ provides a universal method for describing the kinematics of any manipulator. This intuitive and systematic approach can be applied with a simple wal-through procedure. The resulting sequence comprises a number of elementary transforms - translations and rotations - from the base frame to the robot's end-effector."
   ],
   "metadata": {
    "collapsed": false
   }
  },
  {
   "cell_type": "markdown",
   "source": [
    "The __zero-angle configuration__ of a manipulator is the state of the robot when all its joint angles and translational distances are set to zero. This is set by the manufacturers of the manipulator."
   ],
   "metadata": {
    "collapsed": false
   }
  },
  {
   "cell_type": "markdown",
   "source": [
    "We use the notations where $\\{a\\}$ denotes a coordinate frame, and $^{a}\\mathbf{T}_{b}$ is a relative pose of rigid-body transformation of $\\{b\\}$ with respect to $\\{a\\}$."
   ],
   "metadata": {
    "collapsed": false
   }
  },
  {
   "cell_type": "markdown",
   "source": [
    "### Forward Kinematics"
   ],
   "metadata": {
    "collapsed": false
   }
  },
  {
   "cell_type": "markdown",
   "source": [
    "The forward kinematics of a manipulator provides a non-linear mapping\n",
    "$$\n",
    "    ^{0}\\mathbf{T}_{e}\\left(t\\right) = \\mathcal{K}\\left(\\mathbf{q}\\left(t\\right)\\right)\n",
    "$$\n",
    "between the joint space and cartesian task space, where $\\mathbf{q}\\left(t\\right)=\\left[ q_1\\left(t\\right), q_2\\left(t\\right), \\hdots, q_n\\left(t\\right) \\right] \\in \\mathbb{R}^{n}$ is the vecto of joint generalised cordinates, $n$ is the number of joints, and $^{0}\\mathbf{T}_{e} \\in \\mathbf{SE}(3)$ is a homogenous transformation matrix representing the pose of the robot's end-effector in the world-coordinate frame. The ETS model defines $\\mathcal{K}\\left・\\right)$ as the product of $M$ elementary transforms $\\mathbf{E}_i \\in \\mathbf{SE}(3)$\n",
    "$$\\begin{*align}\n",
    "    ^{0}\\mathbf{T}_{e}\\left( t \\right) &= \\mathbf{E}_1\\left( \\eta_1 \\right) \\mathbf{E}_2\\left( \\eta_2 \\right) \\hdots \\mathbf{E}_M\\left( \\eta_M \\right) \\\\\n",
    "    &= \\prod^{M}_{i=1} \\mathbf{E}_i\\left( \\eta_i \\right)\n",
    "\\end{*align}$$\n",
    "where each of the elementary transforms $\\mathbf{E}_i$ can be a pure translation along, or a pure rotation about the local x-, y- or z-axis by an amount $\\eta_i$. Explicitly, each transform is one of the following:\n",
    "$$\n",
    "    \\mathbf{E}_i = \\{\\; \\mathbf{T}_{\\mathbf{t}_x}\\left(\\eta_i\\right),\\; \\mathbf{T}_{\\mathbf{t}_y}\\left(\\eta_i\\right),\\; \\mathbf{T}_{\\mathbf{t}_y}\\left(\\eta_i\\right),\\; \\mathbf{T}_{\\mathbf{R}_x}\\left(\\eta_i\\right),\\; \\mathbf{T}_{\\mathbf{R}_y}\\left(\\eta_i\\right),\\; \\mathbf{T}_{\\mathbf{R}_y}\\left(\\eta_i\\right)\\; \\}\n",
    "$$\n",
    "where each of the matrices' argument $\\eta_i$ is either a constant $c_i$ (translational offset or rotation) or a joint variable $q_j{t}$:\n",
    "$$\n",
    "    \\eta_i = \\{\\; c_i, q_j\\left(t\\right)\\; \\}\n",
    "$$\n",
    "and the joint variable is\n",
    "$$\n",
    "    q_j\\left(t\\right) = \\begin{cases}\n",
    "        \\theta_j(t) &\\hspace{5mm} \\text{for a revolute joint} \\\\\n",
    "        d_j(t) &\\hspace{5mm} \\text{for a prismatic joint}\n",
    "    \\end{cases}\n",
    "$$"
   ],
   "metadata": {
    "collapsed": false
   }
  },
  {
   "cell_type": "markdown",
   "source": [
    "An __ETS__ description does not require intermediate link frames, but it does not preclude their introduction. The relative transform between link frames $a$ and $b$ is simply a subset of the __ETS__\n",
    "$$\n",
    "    ^{a}\\mathbf{T}_{b} = \\prod^{\\mu(b)}_{\\mu(a)} \\mathbf{E}_i\\left(\\eta_i\\right)\n",
    "$$\n",
    "where the function $\\mu{j}$ returns the index of the term in the ETS expression."
   ],
   "metadata": {
    "collapsed": false
   }
  },
  {
   "cell_type": "markdown",
   "source": [
    "### Deriving the Manipulator Jacobian"
   ],
   "metadata": {
    "collapsed": false
   }
  },
  {
   "cell_type": "markdown",
   "source": [
    "##### First Derivative of a Pose\n",
    "Consider the end-effector pose $\\mathbf{T}$, its derivative with respect to time is\n",
    "$$\n",
    "    \\dot{\\mathbf{T}} = \\frac{\\text{d}\\mathbf{T}}{\\text{d}t} = \\frac{\\partial \\mathbf{T}}{\\partial q_1}\\dot{q_1} + \\hdots + \\frac{\\partial \\mathbf{T}}{\\partial q_n}\\dot{q_n} \\in \\mathbb{R}^{4 \\times 4}\n",
    "$$\n",
    "where each $\\frac{\\partial \\mathbf{T}}{\\partial q_i} \\in \\mathbf{R}^{4 \\times 4}$. The information in $\\mathbf{T}$ is non-minimal, and redundant, as is the information in $\\mathbf{T}'$.\n",
    "$$\n",
    "    \\mathbf{T} = \\begin{bmatrix}\n",
    "        \\mathbf{R} & \\mathbf{t} \\\\\n",
    "        \\mathbf{0} & \\mathbf{1}\n",
    "    \\end{bmatrix}, \\hspace{10mm}  \\dot{\\mathbf{T}} = \\begin{bmatrix}\n",
    "        \\dot{\\mathbf{R}} & \\dot{\\mathbf{t}} \\\\\n",
    "        \\mathbf{0} & \\mathbf{0}\n",
    "    \\end{bmatrix}\n",
    "$$\n",
    "where $\\mathbf{R} \\in \\mathbf{SO}(3)$, $\\dot{\\mathbf{R}} \\in \\mathbb{R}^{3 \\times 3}$, and $\\mathbf{t}, \\dot{\\mathbf{t}} \\in \\mathbf{R}^3$. We can denote the partial derivative in partitioned form as:\n",
    "$$\n",
    "    \\frac{\\partial \\mathbf{T}}{\\partial q_j} = \\begin{bmatrix}\n",
    "        \\mathbf{J}_{R_j} & \\mathbf{J}_{t_j} \\\\\n",
    "        \\mathbf{0} & \\mathbf{0}\n",
    "    \\end{bmatrix}\n",
    "$$\n",
    "where $\\mathbf{J}_{R_j} \\in \\mathbb{R}^{3 \\times 3}$ and $\\mathbf{J}_{t_j} \\in \\mathbb{R}^{3 \\times 1}$ and then we write the transformation derivative as:\n",
    "$$\n",
    "    \\dot{\\mathbf{T}} = \\begin{bmatrix}\n",
    "        \\dot{\\mathbf{R}} & \\dot{\\mathbf{t}} \\\\\n",
    "        \\mathbf{0} & \\mathbf{0}\n",
    "    \\end{bmatrix} = \\begin{bmatrix}\n",
    "        \\mathbf{J}_{R_1} & \\mathbf{J}_{t_1} \\\\\n",
    "        \\mathbf{0} & \\mathbf{0}\n",
    "    \\end{bmatrix} \\dot{q}_1 + \\hdots + \\begin{bmatrix}\n",
    "        \\mathbf{J}_{R_n} & \\mathbf{J}_{t_n} \\\\\n",
    "        \\mathbf{0} & \\mathbf{0}\n",
    "    \\end{bmatrix} \\dot{q}_n\n",
    "$$\n",
    "and write a matrix equation for each non-zero partition\n",
    "$$\n",
    "    \\dot{\\mathbf{R}} = \\mathbf{J}_{R_1}\\dot{q}_1 + \\hdots + \\mathbf{J}_{R_n}\\dot{q}_n \\\\\n",
    "    \\dot{\\mathbf{t}} = \\mathbf{J}_{t_1}\\dot{q}_1 + \\hdots + \\mathbf{J}_{t_n}\\dot{q}_n\n",
    "$$\n",
    "where each term represents the condition to end-effector velocity due to motion of the corresponding joint."
   ],
   "metadata": {
    "collapsed": false
   }
  },
  {
   "cell_type": "markdown",
   "source": [
    "Where $\\mathbf{J}_{v}(\\mathbf{q}) \\in \\mathbb{R}^{3 \\times n}$ is the __translational part of the manipulator Jacobian matrix__, we can write\n",
    "$$\\begin{align}\n",
    "    \\dot{\\mathbf{t}} &= \\left[ \\mathbf{J}_{t_1} \\hdots \\mathbf{J}_{t_n} \\right] \\begin{bmatrix}\n",
    "        \\dot{q}_1 \\\\\n",
    "        \\vdots \\\\\n",
    "        \\dot{q}_n\n",
    "    \\end{bmatrix} \\\\\n",
    "    &= \\mathbf{J}_{v}(\\mathbf{q})\\dot{\\mathbf{q}}\n",
    "\\end{align}$$"
   ],
   "metadata": {
    "collapsed": false
   }
  },
  {
   "cell_type": "markdown",
   "source": [
    "Using the identity $\\dot{\\mathbf{R}} = [\\mathbf{\\omega}]_{\\times}\\mathbf{R}$ where $\\mathbf{\\omega} \\in \\mathbb{R}^3$ is __the angular velocity__, and $[\\mathbf{\\omega}]_{\\times} \\in \\mathbf{so(3)}$ is a skew-symmetric matrix. We can then write\n",
    "$$\n",
    "    [\\mathbf{\\omega}]_{\\times} \\mathbf{R} = \\mathbf{J}_{R_1}\\dot{q}_1 + \\hdots + \\mathbf{J}_{R_n}\\dot{q}_n\n",
    "$$\n",
    "and rearrange to\n",
    "$$\n",
    "    [\\mathbf{\\omega}]_{\\times} = (\\mathbf{J}_{R_1}\\mathbf{R}^{\\top})\\dot{q}_1 + \\hdots + (\\mathbf{J}_{R_n}\\mathbf{R}^{\\top})\\dot{q}_n \\in \\mathbf{so(3)}.\n",
    "$$\n",
    "This $3 \\times 3$ matrix equation has only 3 unique equations, so applying the inverse skew oerator to both sides we have\n",
    "$$\\begin{align}\n",
    "    \\mathbf{\\omega} &= \\vee_{\\times}(\\mathbf{J}_{R_1}\\mathbf{R}^{\\top})\\dot{q}_1 + \\hdots + \\vee_{\\times}(\\mathbf{J}_{R_n}\\mathbf{R}^{\\top})\\dot{q}_n \\\\\n",
    "    &= \\left[ \\vee_{\\times}(\\mathbf{J}_{R_1}\\mathbf{R}^{\\top})\\; \\hdots\\;  \\vee_{\\times}(\\mathbf{J}_{R_n}\\mathbf{R}^{\\top}) \\right] \\begin{bmatrix}\n",
    "        \\dot{q}_1 \\\\\n",
    "        \\vdots \\\\\n",
    "        \\dot{q}_n\n",
    "    \\end{bmatrix} \\\\\n",
    "    &= \\mathbf{J}_{\\omega}(\\mathbf{q})\\dot{\\mathbf{q}}\n",
    "\\end{align}$$\n",
    "where $\\mathbf{J}_{\\omega}(\\mathbf{q}) \\in \\mathbb{R}^{3 \\times n}$ is __the rotational part of the manipulator Jacobian__."
   ],
   "metadata": {
    "collapsed": false
   }
  },
  {
   "cell_type": "markdown",
   "source": [
    "We can combine the translational and rotational parts of the manipulator Jacobian and write:\n",
    "$$\n",
    "    ^{0}\\mathbf{\\mathcal{v}} = \\begin{bmatrix}\n",
    "        \\mathbf{v} \\\\\n",
    "        \\mathbf{\\omega}\n",
    "    \\end{bmatrix} = \\begin{bmatrix}\n",
    "        \\mathbf{J}_{\\vartheta}(\\mathbf{q}) \\\\\n",
    "        \\mathbf{J}_{\\omega}(\\mathbf{q})\n",
    "    \\end{bmatrix} \\dot{\\mathbf{q}}\n",
    "$$\n",
    "which expresses end-effector spatial velocity in the world frame in terms of joint velocity and\n",
    "$$\n",
    "    ^{0}\\mathbf{J}(\\mathbf{q}) = \\begin{bmatrix}\n",
    "        \\mathbf{J}_{\\vartheta}(\\mathbf{q}) \\\\\n",
    "        \\mathbf{J}_{\\omega}(\\mathbf{q})\n",
    "    \\end{bmatrix} \\in \\mathbb{R}^{6 \\times n}\n",
    "$$\n",
    "is the manipulator Jacobian matrix expressed in the world-coordinate frame. In a more compact form, we have:\n",
    "$$\n",
    "    ^{0}\\mathbf{v} = ^{0}\\mathbf{J}(\\mathbf{q})\\dot{\\mathbf{q}}\n",
    "$$"
   ],
   "metadata": {
    "collapsed": false
   }
  },
  {
   "cell_type": "markdown",
   "source": [
    "##### First Derivative of an Elementary Transform\n",
    "Before differentiating the ETS to find the manipulator Jacobian, it is useful to consider the derivative of a single Elementary Transform."
   ],
   "metadata": {
    "collapsed": false
   }
  },
  {
   "cell_type": "markdown",
   "source": [
    "__Derivative of a pure Rotation__: The derivative of a rotation matrix with respect to the rotation angle $\\theta$ is required when considering a revolute joint and can be shown to be:\n",
    "$$\n",
    "    \\frac{\\text{d}\\mathbf{R}(\\theta)}{\\text{d}\\theta} = \\left[ \\hat{\\mathbf{\\omega}} \\right]_{\\times}\\mathbf{R}(\\theta(t))\n",
    "$$\n",
    "where the unit vector $\\hat{\\mathbf{\\omega}}$ is the joint rotation axis. Re-araanging, we have:\n",
    "$$\n",
    "    \\hat{\\mathbf{\\omega}} = \\vee_{\\times} \\left( \\frac{\\text{d}\\mathbf{R}(\\theta)}{\\text{d}\\theta} \\mathbf{R}(\\theta(t))^{\\top} \\right)\n",
    "$$\n",
    "since $\\mathbf{R} \\in \\mathbf{SO}(3)$, then $\\mathbf{R}^{-1}=\\mathbf{R}^{\\top}$. Derivative of each elementary rotation with respect to a rotation angle is\n",
    "$$\n",
    "    \\frac{\\text{d}\\mathbf{T}_{\\mathbf{R}_x}(\\theta)}{\\text{d}\\theta} = \\begin{bmatrix}\n",
    "        0 & 0 & 0 & 0 \\\\\n",
    "        0 & 0 & -1 & 0 \\\\\n",
    "        0 & 1 & 0 & 0 \\\\\n",
    "        0 & 0 & 0 & 0 \\\\\n",
    "    \\end{bmatrix} \\mathbf{T}_{\\mathbf{R_x}} = [\\hat{\\mathbf{R}}_x] \\mathbf{T}_{\\mathbf{R_x}}, \\\\\n",
    "    \\frac{\\text{d}\\mathbf{T}_{\\mathbf{R}_y}(\\theta)}{\\text{d}\\theta} = \\begin{bmatrix}\n",
    "        0 & 0 & 1 & 0 \\\\\n",
    "        0 & 0 & 0 & 0 \\\\\n",
    "        -1 & 0 & 0 & 0 \\\\\n",
    "        0 & 0 & 0 & 0 \\\\\n",
    "    \\end{bmatrix} \\mathbf{T}_{\\mathbf{R_y}} = [\\hat{\\mathbf{R}}_y] \\mathbf{T}_{\\mathbf{R_y}}, \\\\\n",
    "    \\frac{\\text{d}\\mathbf{T}_{\\mathbf{R}_z}(\\theta)}{\\text{d}\\theta} = \\begin{bmatrix}\n",
    "        0 & -1 & 0 & 0 \\\\\n",
    "        1 & 0 & 0 & 0 \\\\\n",
    "        0 & 0 & 0 & 0 \\\\\n",
    "        0 & 0 & 0 & 0 \\\\\n",
    "    \\end{bmatrix} \\mathbf{T}_{\\mathbf{R_z}} = [\\hat{\\mathbf{R}}_z] \\mathbf{T}_{\\mathbf{R_z}}\n",
    "$$\n",
    "where each of the augmented skew-symmetric matrices $[\\hat{\\mathbf{R}}]$ above corresponds to one of the generators of $\\mathbf{SE}(3)$ which lies in $\\mathbf{se}(3)$, the tangent space of $\\mathbf{SE}(3)$."
   ],
   "metadata": {
    "collapsed": false
   }
  },
  {
   "cell_type": "markdown",
   "source": [
    "##### Derivative of a Pure Translation\n",
    "Derivatives of each elementary translation with respect to a translation below:\n",
    "$$\n",
    "    \\frac{\\text{d}\\mathbf{T}_{\\mathbf{t}_x}(d)}{\\text{d}d} = \\begin{bmatrix}\n",
    "        0 & 0 & 0 & 1 \\\\\n",
    "        0 & 0 & 0 & 0 \\\\\n",
    "        0 & 0 & 0 & 0 \\\\\n",
    "        0 & 0 & 0 & 0 \\\\\n",
    "    \\end{bmatrix} = [\\hat{\\mathbf{t}}_x], \\\\\n",
    "    \\frac{\\text{d}\\mathbf{T}_{\\mathbf{t}_y}(d)}{\\text{d}d} = \\begin{bmatrix}\n",
    "        0 & 0 & 0 & 0 \\\\\n",
    "        0 & 0 & 0 & 1 \\\\\n",
    "        0 & 0 & 0 & 0 \\\\\n",
    "        0 & 0 & 0 & 0 \\\\\n",
    "    \\end{bmatrix} = [\\hat{\\mathbf{t}}_y], \\\\\n",
    "    \\frac{\\text{d}\\mathbf{T}_{\\mathbf{t}_z}(d)}{\\text{d}d} = \\begin{bmatrix}\n",
    "        0 & 0 & 0 & 0 \\\\\n",
    "        0 & 0 & 0 & 0 \\\\\n",
    "        0 & 0 & 0 & 1 \\\\\n",
    "        0 & 0 & 0 & 0 \\\\\n",
    "    \\end{bmatrix} = [\\hat{\\mathbf{t}}_z]\n",
    "$$\n",
    "where each of the augmented skew symmetric matrices $[\\hat{\\mathbf{t}}]$ above are the remaining three generators of $\\mathbf{SE}(3)$ which lie in $\\mathbf{se}(3)$."
   ],
   "metadata": {
    "collapsed": false
   }
  },
  {
   "cell_type": "markdown",
   "source": [
    "##### The Manipulator Jacobian\n",
    "To find out how the $j^{\\text{th}}$ joint affects the end-effector pose, we apply the chain rule to the ETS:\n",
    "$$\\begin{align}\n",
    "    \\frac{\\partial\\mathbf{T}(\\mathbf{q})}{\\partial q_j} &= \\frac{\\partial}{\\partial q_j} \\left( \\mathbf{E}_1(\\eta_1)\\mathbf{E}_2(\\eta_2)\\hdots\\mathbf{E}_M(\\eta_M)\\right) \\\\\n",
    "    &= \\prod^{\\mu(j)-1}_{i=1} \\mathbf{E}_i(\\eta_i) \\frac{\\text{d}\\mathbf{E}_{\\mu(j)}(q_j)}{\\text{d}q_j} \\prod^{M}_{i=\\mu(j)+1} \\mathbf{E}_i(\\eta_i)\n",
    "\\end{align}$$\n",
    "\n",
    "Using the previously defined $\\mathbf{J}_{\\omega}$ and $\\mathbf{J}_{v}$, we can form the angular velocity components of the $j^{\\text{th}}$ column of the manipulator Jacobian\n",
    "$$\n",
    "    \\mathbf{J}_{\\omega_j}(\\mathbf{q})=\\vee_{\\times} \\left( \\rho \\left(\\frac{\\partial \\mathbf{T}(\\mathbf{q})}{\\partial q_j}\\right) \\rho \\left( \\mathbf{T}(\\mathbf{q})^{\\top} \\right) \\right)\n",
    "$$\n",
    "and the translational velocity compinent of the $j^{\\text{th}}$ column of the manipulator Jacobian is\n",
    "$$\n",
    "    \\mathbf{J}_{v_j}(\\mathbf{q}) = \\tau \\left( \\frac{\\partial \\mathbf{T}(\\mathbf{q})}{\\partial q_j} \\right)\n",
    "$$\n",
    "Stacking the translation and angular velocity components, the $j^{\\text{th}}$ column of the manipulator Jacobian becomes\n",
    "$$\n",
    "    \\mathbf{J}_j(\\mathbf{q}) = \\begin{bmatrix}\n",
    "        \\mathbf{J}_{v_j}(\\mathbf{q}) \\\\\n",
    "        \\mathbf{J}_{\\omega_j}(\\mathbf{q})\n",
    "    \\end{bmatrix} \\in \\mathbb{R}^{6}\n",
    "$$\n",
    "where the full manipulator Jacobian is\n",
    "$$\n",
    "    \\mathbf{J}(\\mathbf{q}) = \\left[\\; \\mathbf{J}_1(\\mathbf{q})\\; \\hdots\\; \\mathbf{J}_n(\\mathbf{q})\\; \\right] \\in \\mathbb{R}^{6 \\times n}\n",
    "$$"
   ],
   "metadata": {
    "collapsed": false
   }
  },
  {
   "cell_type": "markdown",
   "source": [
    "##### Fast Manipulator Jacobian\n",
    "Calculating the manipulator Jacobian using the above method is easy to understand, but has $\\mathcal{O}(n^2)$ time complexity."
   ],
   "metadata": {
    "collapsed": false
   }
  },
  {
   "cell_type": "markdown",
   "source": [
    "### Manipulator jacobian Applications"
   ],
   "metadata": {
    "collapsed": false
   }
  },
  {
   "cell_type": "markdown",
   "source": [
    "##### Numerical Inverse Kinematics\n",
    "\n",
    "Inverse kinematics deals in the problem of determining the corresponding joint coordinates, given some end-effector pose. There are two approaches to solving the inverse kinematics: analytical and numerical.\n",
    "\n",
    "Analytical formulas must be pre-generated for a given manipulator and in some cases may not exist. Analytical solutions generally cannot optimise for additionally criteria such as joint limits.\n",
    "\n",
    "Numerical inverse kinematics use an iterative technique and can additionally consider extra constraints such as collision avoidance, joint limit avoidance, or manipulability."
   ],
   "metadata": {
    "collapsed": false
   }
  },
  {
   "cell_type": "markdown",
   "source": [
    "Using the __Newton-Raphson__ (NR) method for inverse kinematics to find the joint coordinates which correspond to some end-effector pose $^{0}\\mathbf{T}_{e^*}$, the NR method seeks to minimise an error function\n",
    "$$\n",
    "    E = \\frac{1}{2}\\mathbf{e}^{\\top}\\mathbf{W}_e\\mathbf{e}\n",
    "$$\n",
    "where\n",
    "$$\n",
    "    \\mathbf{e} = \\begin{bmatrix}\n",
    "        \\tau\\left(^{0}\\mathbf{T}_{e^*}\\right) - \\tau\\left(^{0}\\mathbf{T}_{e}\\right) \\\\\n",
    "        \\alpha \\left( \\rho\\left(^{0}\\mathbf{T}_{e^*}\\right)\\rho\\left(^{0}\\mathbf{T}_{e}\\right)^{\\top} \\right)\n",
    "    \\end{bmatrix} \\in \\mathbb{R}^6\n",
    "$$\n",
    "where $\\alpha(*) : \\mathbf{SO}(3) \\mapsto \\mathbb{R}^3$ transforms a rotation matrix to its Euler vector equivalent and $\\mathbf{W}_e = \\text{diag}(\\mathbf{w}_e)$ with $\\mathbf{w}_e \\in \\mathbb{R}^n \\ge 0$ is a diagonal weighting matrix which prioritises the corresponding error term. To achieve this, we iterate upon the following\n",
    "$$\n",
    "    \\mathbf{q}_{k+1} = \\mathbf{q}_k + ^{0}\\mathbf{J}(\\mathbf{q})^{-1}\\mathbf{e}_k\n",
    "$$"
   ],
   "metadata": {
    "collapsed": false
   }
  },
  {
   "cell_type": "markdown",
   "source": [
    "We define $\\rho(\\mathbf{T})=\\mathbf{R}=\\{r_{ij}\\}$ and\n",
    "$$\n",
    "    \\mathcal{l}=\\begin{bmatrix}\n",
    "        r_{32}-r_{23} \\\\\n",
    "        r_{13}-r_{31} \\\\\n",
    "        r_{21}-r_{12}\n",
    "    \\end{bmatrix}\n",
    "$$\n",
    "If $\\mathbf{R}$ is not a diagonal matrix then the angle-axis equivalent of $\\mathbf{R}$ is calculated as\n",
    "$$\n",
    "    \\alpha(\\mathbf{R})=\\frac{\\text{atan2}\\left(\\lVert \\mathcal{l} \\rVert, r_{11}+r_{22}+r_{33}-1\\right)} {\\lVert \\mathcal{l} \\rVert} \\mathcal{l}\n",
    "$$\n",
    "If $\\mathbf{R}$ is a diagonal matrix then we use different formulas. For the case where $(r_{11}, r_{22}, r_{33}) = (1, 1, 1)$ then $\\alpha(\\mathbf{R})=(0,0,0)^{\\top}$ otherwise\n",
    "$$\n",
    "    \\alpha(\\mathbf{R})=\\frac{\\pi}{2} \\begin{bmatrix}\n",
    "        r_{11}+1 \\\\\n",
    "        r_{22}+1 \\\\\n",
    "        r_{33}+1\n",
    "    \\end{bmatrix}\n",
    "$$"
   ],
   "metadata": {
    "collapsed": false
   }
  },
  {
   "cell_type": "markdown",
   "source": [
    "When using the NR method, the initial joint coordinates $q_0$, should correspond to a non-singular manipulator pose, since it uses the manipulator Jacobian. When the problem is solvable, it converges very quickly. However, this method frequently fails to converge on the goal. We can improve the solvability of the problem by using the Gauss-Newton (GN) method\n",
    "$$\n",
    "    \\mathbf{q}_{k+1} = \\mathbf{q}_k + \\left(\\mathbf{J}(\\mathbf{q}_k)^{\\top}\\mathbf{W}_e\\mathbf{J}(\\mathbf{q}_k)\\right)^{-1}\\mathbf{q}_k \\\\\n",
    "    \\mathbf{g}_k = \\mathbf{J}(\\mathbf{q}_k)^{\\top}\\mathbf{W}_e\\mathbf{e}_k\n",
    "$$\n",
    "where $\\mathbf{J}=^{0}\\mathbf{J}$ is the base-frame manipulator Jacobian. This can also be affected by $\\mathbf{J}(\\mathbf{q_k})$ being singular making GN solution infeasible."
   ],
   "metadata": {
    "collapsed": false
   }
  },
  {
   "cell_type": "markdown",
   "source": [
    "We can further improve the solvability through the Levenberg-Marquardt (LM) method\n",
    "$$\n",
    "    \\mathbf{q}_{k+1} = \\mathbf{q}_k + \\left(\\mathbf{A}_k\\right)^{-1}\\mathbf{q}_k \\\\\n",
    "    \\mathbf{A}_k = \\mathbf{J}(\\mathbf{q}_k)^{\\top}\\mathbf{W}_e\\mathbf{J}(\\mathbf{q}_k) + \\mathbf{W}_n\n",
    "$$\n",
    "where $\\mathbf{W}_n = \\text{diag}(\\mathbf{w}_n)(\\mathbf{w}_n \\in \\mathbb{R}^{n}_{> 0})$ is a diagonal damping matrix. The damping matrix ensures that $\\mathbf{A}_k$ is non-singular and positive definite. The performance of the LM method largely depends on the choice of $\\mathbf{W}_n$.\n",
    "\n",
    "Wampler proposed $\\mathbf{w}_n$ to be a constant, Chan and Lawrence proposed a damped least-squares method with\n",
    "$$\n",
    "    \\mathbf{W}_n = \\lambda E_k \\mathbf{1}_n\n",
    "$$\n",
    "where $\\lambda$ is a constant which does not have much influence on performance. Sugihara proposed\n",
    "$$\n",
    "    \\mathbf{W}_n = E_k \\mathbf{1}_n + \\text{diag}(\\tilde{\\mathbf{w}}_n)\n",
    "$$\n",
    "where $\\tilde{\\mathbf{w}}_n \\in \\mathbb{R}^{n}$, $\\hat{w}_{n_i} = l^2 \\sim 0.001l^2$, and $l$ is the length of a typical link within the manipulator."
   ],
   "metadata": {
    "collapsed": false
   }
  },
  {
   "cell_type": "markdown",
   "source": [
    "An important point to note is that the above methods are subject to local minima and in some cases will fail to converge on the solution. The choice of the initial joint configuration $\\mathbf{q}_0$ is important. An alternative approach is to re-start an IK problem with a new random $\\mathbf{q}_0$ after a few $20 \\sim 50$ iterations rather than persist with a single attempt method $500 \\sim 5000$ iterations. This is a simple but effective method of performing a global search for the IK solution."
   ],
   "metadata": {
    "collapsed": false
   }
  },
  {
   "cell_type": "markdown",
   "source": [
    "##### Manipulator Performance Metrics\n",
    "\n",
    "Manipulator performance metrics seek to quantify the performance of a manipulator in a given configuration. Two common manipulator performance metrics based on the manipulator Jacobian. Firstly, the metrics are unitless, and the upper bound of a metric depends on the manipulator kinematic model (i.e. joint types and link lengths). Consequently, metrics computed for different manipulators are not directly comparable. Secondly, the manipulator Jacobian contains three rows corresponding to translational rates, and three rows corresponding to angular rates. Therefore, any metrics using the whole Jacobian will produce a non-homogenous result due to the mixed units. Depending on the manipulator scale, this can cause either the translational or rotational component to dominate result. In general, the most intuitive use of performance metrics comes from using only the translational or rotational rows of the manipulator Jacobian (where the choice of which depends on the use case), and only using the metric on a manipulator comprising a single joint type."
   ],
   "metadata": {
    "collapsed": false
   }
  },
  {
   "cell_type": "markdown",
   "source": [
    "__Manipulability Index__: The Yoshikawa manipulability index is the most widely used and accepted performance metric. The index is calculated as\n",
    "$$\n",
    "    m(\\mathbf{q}) = \\sqrt{\\text{det}\\left( \\hat{\\mathbf{J}}(\\mathbf{q})\\hat{\\mathbf{J}}(\\mathbf{q})^{\\top} \\right)}\n",
    "$$\n",
    "where $\\hat{\\mathbf{J}}(\\mathbf{q}) \\in \\mathbb{R}^{3 \\times n}$ is either the translational or rotational rows of $\\mathbf{J}(\\mathbf{q})$ causing $m(\\mathbf{q})$ to describe the corresponding component of manipulability. The scalar $m(\\mathbf{q})$ describes the volume of a 3-dimensional ellipsoid - if this ellipsoid is close to spherical, then the manipulator can achieve any arbitrary end-effector (translational or rotational depending on $\\hat{\\mathbf{J}}(\\mathbf{q})$) velocity.\n",
    "\n",
    "The ellipsoid is described by three radii aligned with its principal axes.A small radii indicates the robot's inability to achieve a velocity in the corresponding direction. At a singularity, the ellipsoid's radius becomes zero along the corresponding axis and the volume becomes zero. If the manipulator is well conditioned, these ellipsoids will have a larger volume. Therefore, the manipulability index is essentially a measure of how easily a manipulator can achieve an arbitrary velocity."
   ],
   "metadata": {
    "collapsed": false
   }
  },
  {
   "cell_type": "markdown",
   "source": [],
   "metadata": {
    "collapsed": false
   }
  }
 ],
 "metadata": {
  "kernelspec": {
   "display_name": "Python 3",
   "language": "python",
   "name": "python3"
  },
  "language_info": {
   "codemirror_mode": {
    "name": "ipython",
    "version": 2
   },
   "file_extension": ".py",
   "mimetype": "text/x-python",
   "name": "python",
   "nbconvert_exporter": "python",
   "pygments_lexer": "ipython2",
   "version": "2.7.6"
  }
 },
 "nbformat": 4,
 "nbformat_minor": 0
}
